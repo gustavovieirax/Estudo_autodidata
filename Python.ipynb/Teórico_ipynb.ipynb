{
  "nbformat": 4,
  "nbformat_minor": 0,
  "metadata": {
    "colab": {
      "provenance": []
    },
    "kernelspec": {
      "name": "python3",
      "display_name": "Python 3"
    },
    "language_info": {
      "name": "python"
    }
  },
  "cells": [
    {
      "cell_type": "markdown",
      "source": [
        "**AULA 01** - VARIÁVEIS/DEFINIÇÃO"
      ],
      "metadata": {
        "id": "1tpBLkWjXFUx"
      }
    },
    {
      "cell_type": "code",
      "source": [
        "#Print\n",
        "nome = 'Gustavo'\n",
        "idade = 15\n",
        "peso = 80\n",
        "\n",
        "print(nome, idade, peso)\n",
        "\n",
        "\n",
        "#Input\n",
        "\n",
        "nome = input('Qual é o seu nome? ')\n",
        "idade = input('Qual é a sua idade? ')\n",
        "peso = input('Qual é o seu peso? ')"
      ],
      "metadata": {
        "id": "6ZrkPexZXIBD"
      },
      "execution_count": null,
      "outputs": []
    },
    {
      "cell_type": "code",
      "source": [
        "D = input('Digite dia: ')\n",
        "M = input('Digite mês ')\n",
        "A = input('Digite ano')\n",
        "\n",
        "print('Você nasceu no dia', D, M, A)"
      ],
      "metadata": {
        "id": "uVtdfPeRXnFU"
      },
      "execution_count": null,
      "outputs": []
    },
    {
      "cell_type": "code",
      "source": [
        "First = int(input('Digite o primeiro número '))\n",
        "Second = int(input('Digite o segundo número'))\n",
        "\n",
        "resultado = First + Second\n",
        "\n",
        "print('O resultado é igual a ', resultado)"
      ],
      "metadata": {
        "id": "Tu8EcyWjXwBV"
      },
      "execution_count": null,
      "outputs": []
    },
    {
      "cell_type": "markdown",
      "source": [
        "**AULA 02** - Tipos primitivos e saída de dados"
      ],
      "metadata": {
        "id": "VQH37KhZX2rX"
      }
    },
    {
      "cell_type": "code",
      "source": [
        "n = input('Digite um valor: ')\n",
        "print(n)"
      ],
      "metadata": {
        "id": "a6g4Jtw3X-td"
      },
      "execution_count": null,
      "outputs": []
    },
    {
      "cell_type": "code",
      "source": [
        "n1 = int(input('Digite o primeiro valor '))\n",
        "n2 = int(input('Digite o segudo valor '))\n",
        "s = n1 + n2\n",
        "\n",
        "#print('A soma dos valores', n1, n2, 'vale', s\n",
        "\n",
        "\n",
        "print(f'A soma entre {n1} e {n2} vale {s}')"
      ],
      "metadata": {
        "colab": {
          "base_uri": "https://localhost:8080/"
        },
        "id": "noNqnxnsYB0o",
        "outputId": "8a55bf6e-b9a2-41cf-b237-718aebe9d426"
      },
      "execution_count": null,
      "outputs": [
        {
          "output_type": "stream",
          "name": "stdout",
          "text": [
            "Digite o primeiro valor 10\n",
            "Digite o segudo valor 20\n",
            "A soma entre 10 e 20 vale 30\n"
          ]
        }
      ]
    },
    {
      "cell_type": "markdown",
      "source": [
        "**AULA 03** - OPERADORES ARITIMÉTICOS"
      ],
      "metadata": {
        "id": "KIySbLbbYqDW"
      }
    },
    {
      "cell_type": "code",
      "source": [
        "n1 = int(input('Digite um valor: '))\n",
        "n2 = int(input('Digite o segundo valor: '))\n",
        "print(f'A soma vale {n1+n2}')\n",
        "\n",
        "s = n1+n2 #soma\n",
        "\n",
        "m = n1*n2 #multipilicação\n",
        "\n",
        "d = n1/n2 #divisão\n",
        "\n",
        "ds = n1//n2 #divisão sem decimais\n",
        "\n",
        "p = n1**n2 #raiz quadrada\n",
        "\n",
        "print(f'Os valores são {s, m,  d, ds, p}')"
      ],
      "metadata": {
        "colab": {
          "base_uri": "https://localhost:8080/"
        },
        "id": "nGLFqc1KZCx3",
        "outputId": "784f6e89-9069-452f-ecc1-506d2e8958c2",
        "collapsed": true
      },
      "execution_count": null,
      "outputs": [
        {
          "output_type": "stream",
          "name": "stdout",
          "text": [
            "Digite um valor: 10\n",
            "Digite o segundo valor: 20\n",
            "A soma vale 30\n",
            "Os valores são (30, 200, 0.5, 0, 100000000000000000000)\n"
          ]
        }
      ]
    },
    {
      "cell_type": "markdown",
      "source": [
        "**AULA 04 - MÓDULOS**"
      ],
      "metadata": {
        "id": "hICKmzSWZIQA"
      }
    },
    {
      "cell_type": "code",
      "source": [
        "import pyautogui\n",
        "\n",
        "pyautogui.press(\"win\")\n",
        "pyautogui.write('Chrome')\n",
        "\n",
        "#Pyautogui irá pressionar a tecla \"windows\" e irá escrever a palavra \"Chrome\""
      ],
      "metadata": {
        "id": "yKr9ncxUZ4--"
      },
      "execution_count": null,
      "outputs": []
    }
  ]
}